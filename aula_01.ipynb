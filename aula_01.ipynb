{
  "nbformat": 4,
  "nbformat_minor": 0,
  "metadata": {
    "colab": {
      "private_outputs": true,
      "provenance": [],
      "mount_file_id": "1bFXiEXtzUZgY5C2ZSU8BFFbtug6aELpL",
      "authorship_tag": "ABX9TyPwkTHq19jOksFug9cs64mt",
      "include_colab_link": true
    },
    "kernelspec": {
      "name": "python3",
      "display_name": "Python 3"
    },
    "language_info": {
      "name": "python"
    }
  },
  "cells": [
    {
      "cell_type": "markdown",
      "metadata": {
        "id": "view-in-github",
        "colab_type": "text"
      },
      "source": [
        "<a href=\"https://colab.research.google.com/github/getrolucas/ipab-python/blob/main/aula_01.ipynb\" target=\"_parent\"><img src=\"https://colab.research.google.com/assets/colab-badge.svg\" alt=\"Open In Colab\"/></a>"
      ]
    },
    {
      "cell_type": "markdown",
      "source": [
        "## **Aula 1: Introdução ao Python**\n",
        "Neste notebook iremos abordar os tópicos iniciais a respeito da linguagem Python.\n",
        "#### **Tópicos:**\n",
        "0. O que é Python?\n",
        "1. Por que Python?\n",
        "2. Acréscimos\n",
        "3. Fontes de Pesquisa\n"
      ],
      "metadata": {
        "id": "MPL3Y2w7m5Rq"
      }
    },
    {
      "cell_type": "markdown",
      "source": [
        "## **O que é Python?**\n",
        "Python é uma linguagem criada por Guido van Rossum e foi lançada em 1991 e hoje é mantida pela [Python Software Fundation](https://www.python.org/psf-landing/).\n",
        "\\\n",
        "\\\n",
        "![Guido van Rossum](https://aem.dropbox.com/cms/content/dam/dropbox/blog/files/2019/11/guido_social-landscape.jpg/_jcr_content/renditions/guido_social-landscape.og.jpg)\n",
        "\\\n",
        "\\\n",
        "Hoje o Python é uma das mais, se não a mais, popular linguagem de programação devido o seu propósito geral, uma vez que serve desde desenvolvimento web até a aplicações modernas de Inteligência Artificial. \\\n",
        "O artigo [Top Programming Languages in 2023: Insights from the Stack Overflow Developer Survey](https://medium.com/@shafaqgillani8/) traz o Python como a terceira mais popular entre os desenvolvedores em 2023.\n",
        "\\\n",
        "\\\n",
        "![Rank Linguagens](https://miro.medium.com/v2/resize:fit:1400/1*WmjJGos353YLR8BVI___3w.png)"
      ],
      "metadata": {
        "id": "lBj5pb2Wo52F"
      }
    },
    {
      "cell_type": "markdown",
      "source": [
        "## **Por que Python?**\n",
        "1. **Propósitgo geral:** o Python é uma linguagem de propósito geral, diferente de outras linguagens que são focadas em front-end, back-end ou são linguagens mais científicas. O Python conta com bibliotecas muito avançadas para quase todas as áreas, principalmente desenvolvimento e ciência de dados. Você pode fazer com Python:\n",
        "  - Desenvolver um site\n",
        "  - Desenvolver um software\n",
        "  - Desenvolver uma análise científica\n",
        "  - Desenvolver um script de sistema\n",
        "  - Ler bancos de dados ou arquivos e modificá-los\n",
        "  - ou algo da moda... Desenvolver uma Inteligência Artificial  \n",
        "\n",
        "2. **Facilidade:** O Python tem uma vantagem que a diferencia das outras linguagens mais populares que é a facilidade de uso e a proximidade com a estrura da linguagem humana. Ex.:\n",
        "#### Print \"Hello, World!\" em Java:\n",
        "``` java\n",
        "public class HelloWorld {\n",
        "    public static void main(String[] args) {\n",
        "        System.out.println(\"Hello, World!\");\n",
        "    }\n",
        "}\n",
        "// Hello, World!\n",
        "```\n",
        "#### Print \"Hello, World!\" em Python:\n",
        "```python\n",
        "print(\"Hello, World!\")\n",
        " # Hello, World!\n",
        "```\n",
        "\n",
        "3. **Multi-paradigma:** Você programar em Python em diversos paradigmas (conjunto de conceitos e técnicas que orientam a programação).\n",
        "\n",
        "4. **Apoio da Comunidade:** A comunidade é bem engajada e a maioria das libs mais importantes para cada área de desenvolvimento são open-source e você pode tirar dúvidas, relatar erros etc.\n",
        "\n",
        "5. **Apoio das Organizações:** Grandes empresas apoiam projetos open-source desenvolvidos em Python. Empresas como Google, Microsoft, Meta (Facebook), Uber etc, etc, etc..."
      ],
      "metadata": {
        "id": "8LDFpLmguPbM"
      }
    },
    {
      "cell_type": "markdown",
      "source": [
        "## **Particularidades**\n",
        "1. Python entende cada linha como uma instrução separada, enquanto em outras linguagens é necessário colocar ponto-e-vírgula.\n",
        " #### Definindo variáveis em Java\n",
        "```java\n",
        "public class Main {\n",
        "    public static void main(String[] args) {\n",
        "        int a = 5;  // note o \";\"\n",
        "        int b = 10; // note o \";\"\n",
        "    }\n",
        "}\n",
        "```\n",
        "#### Definindo variáveis em Python\n",
        "```python\n",
        "a = 5\n",
        "b = 10\n",
        "```\n",
        "\n",
        "2. Python também depende de recuo para definir hierarquia ou escopo. Por exemplo:\n",
        "#### Isso:\n",
        "```python\n",
        "for i in range(1,5):\n",
        "        print(i) # note o espaço\n",
        "\n",
        " # 1\n",
        " # 2\n",
        " # 3\n",
        " # 4\n",
        "```\n",
        "#### ...é diferente disso:\n",
        "```python\n",
        "for i in range(1,5):\n",
        "print(i) # sem espaço\n",
        "\n",
        "  # File \"<ipython-input-7-cdd3255ea785>\", line 3\n",
        "  #  print(i)\n",
        "  #  ^\n",
        "  # IndentationError: expected an indented block after 'for' statement on line 2\n",
        "```  \n",
        "3. Python é de tipagem dinâmica, ou seja, você não precisa dizer ao código qual o tipo da sua variável, se é número ou texto etc., o Python interpreta com base no valor atribuído.\n",
        "```python\n",
        " a = 10\n",
        " type(a)   \n",
        " # int\n",
        "\n",
        " b = '10'\n",
        " type(b)   \n",
        " # str\n",
        "```\n",
        "\n",
        "4. A indexação no Python começa em 0 e não em 1.\n",
        "```python\n",
        " lista = [1,2,3,4,5]\n",
        " lista[1:5]\n",
        " # [2, 3, 4, 5]\n",
        "\n",
        " lista = [1,2,3,4,5]\n",
        " lista[0:5]\n",
        " # [1, 2, 3, 4, 5]\n",
        "```"
      ],
      "metadata": {
        "id": "4hcxSkW6rcSc"
      }
    },
    {
      "cell_type": "markdown",
      "source": [
        "## **Acréscimos**\n",
        "1. **Guia de estilo ([PEP 8](https://peps.python.org/pep-0008/)):** PEP (Python Enhancement Proposals, ou Propostas de aprimoramento do Python) é um guia para quem quer seguir as melhores práticas de desenvolvimento. O PEP 8 é um guia de estilo geral para escrita de código Python, visando padronização, facilidade de leitura e manutenção dos códigos.\n",
        "2. **Zen of Python ([PEP 20](\n",
        "  https://peps.python.org/pep-0020/)):** _A filosofia do Python_. São princípios básicos para seguir e se quiser ser um bom desenvolvedor Python. [[Exemplos]](https://pythonacademy.com.br/zen-of-python)\n"
      ],
      "metadata": {
        "id": "GpCB7EbkbGTy"
      }
    },
    {
      "cell_type": "markdown",
      "source": [
        "## **Fontes de Pesquisa**\n",
        "0. [Python Software Foundation](https://www.python.org/psf-landing/)\n",
        "1. [W3: Introduction to Python](https://www.w3schools.com/python/python_intro.asp)\n",
        "2. [Python Brasil](https://python.org.br/)\n",
        "3. [Guia de estilo (PEP 8)](https://peps.python.org/pep-0008/)\n",
        "4. [Zen of Python (PEP 20)](https://peps.python.org/pep-0020/)"
      ],
      "metadata": {
        "id": "gKRMMWjEBCnt"
      }
    }
  ]
}