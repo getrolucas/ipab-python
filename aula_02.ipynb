{
  "nbformat": 4,
  "nbformat_minor": 0,
  "metadata": {
    "colab": {
      "private_outputs": true,
      "provenance": [],
      "mount_file_id": "1bFXiEXtzUZgY5C2ZSU8BFFbtug6aELpL",
      "authorship_tag": "ABX9TyPSE18N8djpCaTWtrt3fLDB",
      "include_colab_link": true
    },
    "kernelspec": {
      "name": "python3",
      "display_name": "Python 3"
    },
    "language_info": {
      "name": "python"
    }
  },
  "cells": [
    {
      "cell_type": "markdown",
      "metadata": {
        "id": "view-in-github",
        "colab_type": "text"
      },
      "source": [
        "<a href=\"https://colab.research.google.com/github/getrolucas/ipab-python/blob/main/aula_02.ipynb\" target=\"_parent\"><img src=\"https://colab.research.google.com/assets/colab-badge.svg\" alt=\"Open In Colab\"/></a>"
      ]
    },
    {
      "cell_type": "markdown",
      "source": [
        "## **Aula 2: Comentários, Variáveis e Tipos**\n",
        "Neste notebook iremos aprender sobre **comentários** nos códigos Python, o que são e como declarar **variáveis** assim como as formas permitidas e não permitidas de declarar e também sobre os principais **tipos** padrão do Python.\n",
        "#### **Tópicos:**\n",
        "0. Comentários\n",
        "1. Variáveis\n",
        "2. Tipos"
      ],
      "metadata": {
        "id": "MPL3Y2w7m5Rq"
      }
    },
    {
      "cell_type": "markdown",
      "source": [
        "## **Comentários**"
      ],
      "metadata": {
        "id": "t1PSN8Uwg9W3"
      }
    },
    {
      "cell_type": "markdown",
      "source": [
        "\n",
        "Comentários são trechos de texto ou código que não são lidos pelo interpretador. Estão no código por alguns motivos, são eles:\n",
        "  0. **Explicar algum código:**\n",
        "  ```python\n",
        "   # Esse código cria uma função\n",
        "   def soma(a = 1, b = 2):\n",
        "        return a + b # retornando a soma\n",
        "  ```\n",
        "  1. **Evitar execução de algum código durante testes:**\n",
        "  ```python\n",
        "    soma(\n",
        "      a=12,\n",
        "      # b=888\n",
        "    )\n",
        "    # [1] 14\n",
        "  ```\n",
        "\n",
        "\n",
        "#### 💡 **Truque:** Use `Ctrl + K + C` para comentar várias linhas de uma vez e `Ctrl + K + U` para reverter.\n",
        "\n"
      ],
      "metadata": {
        "id": "lBj5pb2Wo52F"
      }
    },
    {
      "cell_type": "code",
      "source": [
        "# exemplo\n",
        "a = 1\n",
        "b = 2\n",
        "c = 3\n",
        "d = 4"
      ],
      "metadata": {
        "id": "WHleoOj3lRKI"
      },
      "execution_count": null,
      "outputs": []
    },
    {
      "cell_type": "code",
      "source": [
        "a = 1    # a é uma variável que armazena o número 1\n",
        "b = a  # b é uma variável que armazena a letra 'a'"
      ],
      "metadata": {
        "id": "7zIJwB3cbm37"
      },
      "execution_count": null,
      "outputs": []
    },
    {
      "cell_type": "markdown",
      "source": [
        "## **Variáveis**"
      ],
      "metadata": {
        "id": "qezzZEwyg3uV"
      }
    },
    {
      "cell_type": "markdown",
      "source": [
        "\n",
        "Variáveis para a matemática é qualquer símbolo usado para representar algum número. Na computação, uma variável é uma palavra usada para armazenar alguma coisa, não somente números.\n",
        "```python\n",
        "a = 1    # a é uma variável que armazena o número 1\n",
        "b = 'a'  # b é uma variável que armazena a letra 'a'\n",
        "```\n",
        "Você pode nomear variáveis de qualquer forma, mas não pode começar com números e nem deve conter hífen.\n",
        "```python\n",
        "variavel_um = 1\n",
        "VariavelUm = 1\n",
        "variavelUm = 1\n",
        "_varaivel_1 = 1\n",
        "# ...\n",
        "```\n",
        "Todas elas serão variáveis diferentes mas que armazenam o mesmo valor.\n",
        "\n",
        "```python\n",
        "1variavel = 1   # não funciona\n",
        "variavel-1 = 1  # também não funciona\n",
        "```\n",
        "\n",
        "#### Exemplo:"
      ],
      "metadata": {
        "id": "rTtGbtempmuJ"
      }
    },
    {
      "cell_type": "code",
      "source": [
        "Variavel = \"texto\" # Variavel com V maiúsculo\n",
        "variavel = 'texto' # variavel com v minúsculo\n",
        "\n",
        "# alterando a \"variavel\"\n",
        "variavel = variavel.upper()\n",
        "\n",
        "# verificando se \"Variavel\" foi alterada\n",
        "Variavel"
      ],
      "metadata": {
        "id": "2LsBbHkOcyor"
      },
      "execution_count": null,
      "outputs": []
    },
    {
      "cell_type": "markdown",
      "source": [
        "Você também pode definir várias variáveis em uma mesma linha:"
      ],
      "metadata": {
        "id": "l9y_wzKMW2JX"
      }
    },
    {
      "cell_type": "code",
      "source": [
        "var1, var2, var3 = 1, 2, 3\n",
        "print(var1)\n",
        "print(var2)\n",
        "print(var3)"
      ],
      "metadata": {
        "id": "v_D8w16iXCEg"
      },
      "execution_count": null,
      "outputs": []
    },
    {
      "cell_type": "markdown",
      "source": [
        "Ou ainda várias variáveis com o mesmo valor:"
      ],
      "metadata": {
        "id": "flNHqpcgXFSH"
      }
    },
    {
      "cell_type": "code",
      "source": [
        "var1 = var2 = var3 = '123'\n",
        "print(var1)\n",
        "print(var2)\n",
        "print(var3)"
      ],
      "metadata": {
        "id": "LWLRdH9yXIdA"
      },
      "execution_count": null,
      "outputs": []
    },
    {
      "cell_type": "markdown",
      "source": [
        "## **Tipos**"
      ],
      "metadata": {
        "id": "9fhiogekgzld"
      }
    },
    {
      "cell_type": "markdown",
      "source": [
        "\n",
        "Um dos principais conceitos e que deve ser bem conhecido é tipo de variável, pois os tipos têm características diferentes e portanto podem agir de maneira diferente dentro do seu código, logo, você deve prestar atenção com os tipos que definir e transformá-los quando necessário.\n",
        "#### Os principais (não todos) tipos são:\n",
        "  - Texto: string = `str()`\n",
        "  - Numéricos: inteiro = `int()` e decimal = `float()`\n",
        "  - Sequência: lista = `list()`, tupla = `tuple()` e range = `range()`\n",
        "  - Mapeamento: dicionário = `dict()`\n",
        "  - Verdadeiro ou Falso: booleano = `bool()`\n",
        "\n",
        "Cada variável tem uma forma de ser declarada, assim a tipagem dinâmica (capacidade do Python de inferir qual o tipo ideal para a variável declarada) funcionará.\n",
        "#### Exemplo:"
      ],
      "metadata": {
        "id": "XHsiP_5off-I"
      }
    },
    {
      "cell_type": "code",
      "source": [
        "string = 'texto'\n",
        "inteiro = 1\n",
        "decimal = 1.0\n",
        "lista = [1, 2, 4, '5','6', True]\n",
        "tupla = (1, 2, 4, '5','6', True)\n",
        "sequencia = range(1, 10)\n",
        "dicionario = {'chave1': True,\n",
        "              'chave2': 'texto',\n",
        "              'chave3': 3}\n",
        "booleano = True\n",
        "\n",
        "# verificando os tipos usando type()\n",
        "print(type(string))\n",
        "print(type(inteiro))\n",
        "print(type(decimal))\n",
        "print(type(lista))\n",
        "print(type(tupla))\n",
        "print(type(range))\n",
        "print(type(dicionario))\n",
        "print(type(booleano))"
      ],
      "metadata": {
        "id": "_ypEZye7aBUI"
      },
      "execution_count": null,
      "outputs": []
    },
    {
      "cell_type": "markdown",
      "source": [
        "Se preferir, você pode especificar os tipo da variável usando as funções:"
      ],
      "metadata": {
        "id": "aqd0HFBQatlM"
      }
    },
    {
      "cell_type": "code",
      "source": [
        "string = str(123)                             # << perceba que dentro da função usei 123 e converteu para string\n",
        "inteiro = int(1.0)                            # << perceba que dentro da função usei 1.0 e converteu para int\n",
        "decimal = float(1)                            # << perceba que dentro da função usei 1 e converteu para float\n",
        "lista = list((1, 2, 4, '5','6', True))        # << perceba que dentro da função usei () e converteu para list\n",
        "tupla = tuple([1, 2, 4, '5','6', True])       # << perceba que dentro da função usei [] e converteu para tuple\n",
        "booleano = bool(1)                            # << perceba que dentro da função usei 1 e converteu para bool\n",
        "dicionario = dict(chave1=True, chave2='texto', chave3=3)\n",
        "\n",
        "# verificando os tipos usando type()\n",
        "print(type(string))\n",
        "print(type(inteiro))\n",
        "print(type(decimal))\n",
        "print(type(lista))\n",
        "print(type(tupla))\n",
        "print(type(dicionario))\n",
        "print(type(booleano))"
      ],
      "metadata": {
        "id": "_myykJD9as6Q"
      },
      "execution_count": null,
      "outputs": []
    },
    {
      "cell_type": "markdown",
      "source": [
        "Perceba o seguinte:\n",
        "```python\n",
        "string = str(123)                             # dentro da função usei 123 e converteu para string\n",
        "inteiro = int(1.0)                            # dentro da função int usei 1.0 e converteu para int\n",
        "decimal = float(1)                            # dentro da função float usei 1 e converteu para float\n",
        "lista = list((1, 2, 4, '5','6', True))        # dentro da função list usei () e converteu para list\n",
        "tupla = tuple([1, 2, 4, '5','6', True])       # dentro da função tuple usei [] e converteu para tuple\n",
        "booleano = bool(1)                            # dentro da função bool usei 1 e converteu para bool   \n",
        "```\n",
        "Ou seja: você pode usar as funções para converter as variáveis.\n",
        "\n",
        "\n",
        "#### 💡 **Nota:** Você pode definir uma string usando aspas triplas se quiser escrever em mais de uma linha:\n",
        "\n",
        "```python\n",
        "  texto = \"\"\"texto\n",
        "            escrito\n",
        "            em\n",
        "            várias\n",
        "            linhas\"\"\"\n",
        "```"
      ],
      "metadata": {
        "id": "6vyCG4kxcWDe"
      }
    },
    {
      "cell_type": "markdown",
      "source": [
        "#### 💡 **Dica de Estudo:** Essa série de vídeos do canal Indently aplica todos os métodos para os seguintes tipos:\n",
        "- Todos os métodos para [Strings](https://www.youtube.com/watch?v=bnSYeYFRCaA)\n",
        "- Todos os métodos para [Listas](https://www.youtube.com/watch?v=0yySumZTxJ0&ab_channel=Indently)\n",
        "- Todos os métodos para [Dicionários](https://www.youtube.com/watch?v=u0yr9B3nH8c&ab_channel=Indently)\n",
        "\n",
        "Ative a legenda e pratique os exemplos!\n"
      ],
      "metadata": {
        "id": "cbZ-Sn_wdaCD"
      }
    },
    {
      "cell_type": "markdown",
      "source": [
        "## **Fontes**\n",
        "\n",
        "0. [W3 : Comments](https://www.w3schools.com/python/python_comments.asp)\n",
        "1. [W3: Variables](https://www.w3schools.com/python/python_variables.asp)\n",
        "2. [W3: Data Types](https://www.w3schools.com/python/python_datatypes.asp)"
      ],
      "metadata": {
        "id": "80bdLBCahBQ_"
      }
    }
  ]
}