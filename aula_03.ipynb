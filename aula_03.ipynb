{
  "nbformat": 4,
  "nbformat_minor": 0,
  "metadata": {
    "colab": {
      "private_outputs": true,
      "provenance": [],
      "mount_file_id": "1bFXiEXtzUZgY5C2ZSU8BFFbtug6aELpL",
      "authorship_tag": "ABX9TyMGC139TMMAW+7DSOssqW0L",
      "include_colab_link": true
    },
    "kernelspec": {
      "name": "python3",
      "display_name": "Python 3"
    },
    "language_info": {
      "name": "python"
    }
  },
  "cells": [
    {
      "cell_type": "markdown",
      "metadata": {
        "id": "view-in-github",
        "colab_type": "text"
      },
      "source": [
        "<a href=\"https://colab.research.google.com/github/getrolucas/ipab-python/blob/main/aula_03.ipynb\" target=\"_parent\"><img src=\"https://colab.research.google.com/assets/colab-badge.svg\" alt=\"Open In Colab\"/></a>"
      ]
    },
    {
      "cell_type": "markdown",
      "source": [
        "## **Aula 3: Operadores e Estruturas de Repetição**\n",
        "Neste notebook iremos aprender sobre o **operadores aritméticos, relacionais, de atribuição, lógicos e ternários**. Também iremos aprender sobre estruturas de controle: **condicionais e repetição**. Além de um tópico extra: **Comprehensions**.\n",
        "#### **Tópicos:**\n",
        "0. Operadores aritméticos\n",
        "1. Operadores relacionais\n",
        "2. Operadores de atribuição\n",
        "3. Operadores lógicos e ternários\n",
        "4. Estruturas Condicionais: If, Else e Elif\n",
        "5. Estruturas de Repetição: For e While\n",
        "6. Estruturas de Controle: Break, Continue e pass\n",
        "7. Comprehensions: List e Dict"
      ],
      "metadata": {
        "id": "MPL3Y2w7m5Rq"
      }
    },
    {
      "cell_type": "markdown",
      "source": [
        "## **Operadores aritméticos**\n",
        "Os operadores aritméticos executam operações matemáticas, como adição e subtração de números `int` ou `float`."
      ],
      "metadata": {
        "id": "t1PSN8Uwg9W3"
      }
    },
    {
      "cell_type": "code",
      "source": [
        "print(1 + 1)   # adição\n",
        "print(1 - 1)   # subtração\n",
        "print(1 * 1)   # multiplicação\n",
        "print(3 ** 2)  # exponenciação\n",
        "print(8 % 3)   # resto da divisão\n",
        "print(1 / 2)   # divisão\n",
        "print(1 // 2)  # divisão inteira"
      ],
      "metadata": {
        "id": "2kANmPkt7eQC"
      },
      "execution_count": null,
      "outputs": []
    },
    {
      "cell_type": "markdown",
      "source": [
        "Ainda é possível usar o operador `+` com `strings` quando queremos concatená-las."
      ],
      "metadata": {
        "id": "Z4mCZYFDIwwV"
      }
    },
    {
      "cell_type": "code",
      "source": [
        "frase = 'Eu gosto de '\n",
        "fruta1 = 'maçãs.'\n",
        "fruta2 = 'laranjas.'\n",
        "print(frase + fruta1)\n",
        "print(frase + fruta2)"
      ],
      "metadata": {
        "id": "Z5FBOQr9Iosm"
      },
      "execution_count": null,
      "outputs": []
    },
    {
      "cell_type": "markdown",
      "source": [
        "Ou usar o operador `*` usando `int` e `string` para multiplicar o texto."
      ],
      "metadata": {
        "id": "out20dpgPAI4"
      }
    },
    {
      "cell_type": "code",
      "source": [
        "# imagine uma piada engraçada\n",
        "print('ahshu' * 10)"
      ],
      "metadata": {
        "id": "VkcjJOsOO_ri"
      },
      "execution_count": null,
      "outputs": []
    },
    {
      "cell_type": "code",
      "source": [
        "# string formating: como usar números em strings\n",
        "reais = 10 * 100\n",
        "print(f\"Eu queria {reais} reais\")"
      ],
      "metadata": {
        "id": "oZWbTUU2OukO"
      },
      "execution_count": null,
      "outputs": []
    },
    {
      "cell_type": "markdown",
      "source": [
        "## **Operadores relacionais**\n",
        "Operadores relacionais indicam `True` ou `False` para a comparação entre duas variáveis. Exemplo: Em **relação** ao número 2, o número 3 é maior ou menor?\n",
        "```python  \n",
        "3 > 2\n",
        "# True\n",
        "```"
      ],
      "metadata": {
        "id": "CqaLjdsv8eEf"
      }
    },
    {
      "cell_type": "code",
      "source": [
        "print('a' == 'b')   # igual a\n",
        "print('a' != 'b')   # diferente de\n",
        "print(1 > 2)        # maior que\n",
        "print(1 < 2)        # menor que\n",
        "print(1 >= 2)       # maior ou igual a\n",
        "print(1 <= 2)       # menor ou igual a"
      ],
      "metadata": {
        "id": "A17ATOs_9Kwo"
      },
      "execution_count": null,
      "outputs": []
    },
    {
      "cell_type": "markdown",
      "source": [
        "## **Operadores de atribuição**\n",
        "Operadores de atribuição servem para simplificar o código quando queremos atribuir a alguma variável já existente, o valor dela realizando alguma operação aritmética.\n",
        "O que normalmente se faria assim:\n",
        "```python\n",
        "a = 1\n",
        "a = a+2\n",
        "```\n",
        "Pode ser resolvido assim:\n",
        "```python\n",
        "a = 1\n",
        "a += 2\n",
        "```"
      ],
      "metadata": {
        "id": "v88cYTw-8lfg"
      }
    },
    {
      "cell_type": "code",
      "source": [
        "a = 2\n",
        "a += 2\n",
        "print(a) # adição\n",
        "\n",
        "a = 2\n",
        "a-=2\n",
        "print(a) # subtração"
      ],
      "metadata": {
        "id": "ttL-aADv9xec"
      },
      "execution_count": null,
      "outputs": []
    },
    {
      "cell_type": "code",
      "source": [
        "a = 10\n",
        "a **= 2\n",
        "print(a) # multiplicação"
      ],
      "metadata": {
        "id": "-1-sYWyLRDFi"
      },
      "execution_count": null,
      "outputs": []
    },
    {
      "cell_type": "markdown",
      "source": [
        "> Exercício: Crie variáveis e use os operadores de atribuição de divisão `/=`, multiplicação `*=` e exponenciação `**=`."
      ],
      "metadata": {
        "id": "Jr32EUQ_-pn4"
      }
    },
    {
      "cell_type": "markdown",
      "source": [
        "## **Operadores lógicos, membro e identidade**\n",
        "**Lógicos:** Servem para validar condinções. Se eu tiver um programa que duas condições devem ser confirmadas, ou então pelo menos uma das duas, posso usar operadores lógicos para testar."
      ],
      "metadata": {
        "id": "FB5RAEU18pt9"
      }
    },
    {
      "cell_type": "code",
      "source": [
        "print(True and True) # ou True & True\n",
        "print(True and False)\n",
        "print(True or False) # ou True | False\n",
        "print(not True)"
      ],
      "metadata": {
        "id": "PCU6zF7Z_2BR"
      },
      "execution_count": null,
      "outputs": []
    },
    {
      "cell_type": "markdown",
      "source": [
        "Basicamente:\n",
        "- `and`: todas as lógicas precisam ser `True` para retornar `True`\n",
        "- `or`: pelo menos uma lógica precisa ser `True` para retornar `True`\n",
        "- `not`: inverte o sentido da validação.  "
      ],
      "metadata": {
        "id": "obcyMhpeN0RA"
      }
    },
    {
      "cell_type": "code",
      "source": [
        "# Exemplo:\n",
        "idade = 17\n",
        "trabalha = True\n",
        "if (idade >= 18) and (trabalha == True):\n",
        "# primeira lógica: idade >= 18 retorna False | segunda lógica: trabalha == True retorna True\n",
        "# como estamos usando and, o resultado é False, porque as duas precisam ser True\n",
        "  print('Pode entrar')\n",
        "else:\n",
        "  print('Não pode entrar')"
      ],
      "metadata": {
        "id": "7wwJkugFSTzS"
      },
      "execution_count": null,
      "outputs": []
    },
    {
      "cell_type": "markdown",
      "source": [
        "**Membro:** Valida se algum valor está presente num conjunto de dados."
      ],
      "metadata": {
        "id": "kYwJxzvhTqbM"
      }
    },
    {
      "cell_type": "code",
      "source": [
        "lista = [1, 2, 3]\n",
        "print(1 in lista)\n",
        "print(4 in lista)"
      ],
      "metadata": {
        "id": "jHpxt7SsBbVX"
      },
      "execution_count": null,
      "outputs": []
    },
    {
      "cell_type": "markdown",
      "source": [
        "**Identidade:** Validam se as variáveis se referem ao mesmo espaço na memória. \\\n",
        "> Quando um objeto é criado, ele fará referência a um espaço alocado na memória do computador. Caso você faça `objeto2 = objeto1`, os objetos apontarão para o mesmo espaço na memória, logo, qualquer alteração feita no `objeto2` alterará o `objeto1`. \\\n",
        "Uma forma de contornar esse efeito é criando uma cópia usando o método `.copy()`, assim, teremos dois espaços na memória, e cada objeto será \"individual\"."
      ],
      "metadata": {
        "id": "LrMIfoCJTyNx"
      }
    },
    {
      "cell_type": "code",
      "source": [
        "lista = [1, 2, 3]\n",
        "lista2 = lista.copy()"
      ],
      "metadata": {
        "id": "PUgwfR2kTRoX"
      },
      "execution_count": null,
      "outputs": []
    },
    {
      "cell_type": "code",
      "source": [
        "lista2.append(5)\n",
        "print(lista2)"
      ],
      "metadata": {
        "id": "lI84Lx33UJXT"
      },
      "execution_count": null,
      "outputs": []
    },
    {
      "cell_type": "code",
      "source": [
        "lista = [1, 2, 3]\n",
        "lista2 = lista\n",
        "lista3 = [1, 2, 3]\n",
        "print(lista2 is lista)\n",
        "print(lista3 is lista)\n",
        "print(lista2 is not lista3)"
      ],
      "metadata": {
        "id": "Z6HHZL7eBgXW"
      },
      "execution_count": null,
      "outputs": []
    },
    {
      "cell_type": "code",
      "source": [
        "print(id(lista2) == id(lista))\n",
        "print(id(lista2) == id(lista3))"
      ],
      "metadata": {
        "id": "Y9Z_OPt_Udag"
      },
      "execution_count": null,
      "outputs": []
    },
    {
      "cell_type": "markdown",
      "source": [
        "##**Estruturas condicionais: If, Else, Elif**"
      ],
      "metadata": {
        "id": "7I3QPO_k8wZ9"
      }
    },
    {
      "cell_type": "code",
      "source": [
        "if 1 < 10:\n",
        "  print(\"é menor\")"
      ],
      "metadata": {
        "id": "9FBNhlhoVirF"
      },
      "execution_count": null,
      "outputs": []
    },
    {
      "cell_type": "code",
      "source": [
        "if False:\n",
        "  print('Verdadeiro')\n",
        "else:\n",
        "  print('Falso')"
      ],
      "metadata": {
        "id": "Nhwb9F0UC9hS"
      },
      "execution_count": null,
      "outputs": []
    },
    {
      "cell_type": "code",
      "source": [
        "idade = 10\n",
        "# está entre 0 -5, ou 5-7 ou 8-9 ou 10\n",
        "\n",
        "if idade <= 5:\n",
        "  print('criança')\n",
        "elif idade <= 7:\n",
        "  print('infantil')\n",
        "elif idade <= 9:\n",
        "  print('juvenil')\n",
        "else:\n",
        "  print('adolescente')"
      ],
      "metadata": {
        "id": "MEnwANxGWVTq"
      },
      "execution_count": null,
      "outputs": []
    },
    {
      "cell_type": "code",
      "source": [
        "a = 3\n",
        "b = 2\n",
        "\n",
        "if a > b:\n",
        "  print('a é maior que b')\n",
        "elif a < b:\n",
        "  print('a é menor que b')\n",
        "else:\n",
        "  print('a é igual a b')"
      ],
      "metadata": {
        "id": "EtUIxF8aC_0S"
      },
      "execution_count": null,
      "outputs": []
    },
    {
      "cell_type": "markdown",
      "source": [
        "## **Estruturas de Repetição: For e While**\n",
        "> `for` e `while` significam literalmente \"para\" e \"enquanto\" respectivamente. \\\n",
        "`for` é usado para iterar sobre algum elemento iterável (listas, tuplas, dicionários, strings etc.). Assim, você pode realizar ações com cada elemento individualmente. Por exemplo:\n",
        "```python\n",
        "for i in range(10): # para cada número no range(10)\n",
        "   print(i ** 2)    # faça print desse número elevado a 2\n",
        "```"
      ],
      "metadata": {
        "id": "nWbPmDx789Ct"
      }
    },
    {
      "cell_type": "code",
      "source": [
        "# # for com números\n",
        "# for i in range(10):\n",
        "#     print(i)\n",
        "\n",
        "# for com strings\n",
        "# for letra in \"Python\":\n",
        "#     print(letra)\n",
        "\n",
        "lista = []\n",
        "for x in range(10):\n",
        "  lista.append(x)\n",
        "print(lista)"
      ],
      "metadata": {
        "id": "XU5X9U7DXEnw"
      },
      "execution_count": null,
      "outputs": []
    },
    {
      "cell_type": "markdown",
      "source": [
        "> `while` é usado para executar alguma coisa enquanto alguma condição for válida. \\\n",
        "Suponha que você quer manter as incrições para um evento abertas até chegar numa quantidade limite de inscritos:\n",
        "```python\n",
        "participantes = 0  # quantidade atual de participantes\n",
        "while participantes <= 100:\n",
        " \"... seu código para realizar inscrição \"\n",
        "  participantes += 1 # adicionar + 1 participante\n",
        "```\n",
        "Esse é um código bem trivial e serve para fins de exemplo. O que vale é entender que enquanto o seu número for menor ou igual a 100, seu código estará sendo executado."
      ],
      "metadata": {
        "id": "XCI4SpVdQ2Fj"
      }
    },
    {
      "cell_type": "code",
      "source": [
        "i = 0\n",
        "\n",
        "while i < 11:\n",
        "    print(i)\n",
        "    i += 1"
      ],
      "metadata": {
        "id": "XMKzzoKZXOgB"
      },
      "execution_count": null,
      "outputs": []
    },
    {
      "cell_type": "markdown",
      "source": [
        "Tome cuidado com o `while` inifito. Códigos mal escritos podem gerar um `while` infinto indesejado, o que vai fazer com que seu programa nunca chegue ao fim. Revise sempre suas variáveis e condições antes de executar o programa."
      ],
      "metadata": {
        "id": "ijKF111fXhNV"
      }
    },
    {
      "cell_type": "code",
      "source": [
        "# exemplo de código mal escrito\n",
        "i = 10\n",
        "while i < 11:\n",
        "    print(i)\n",
        "    i + 1"
      ],
      "metadata": {
        "id": "H-_weIB6YApJ"
      },
      "execution_count": null,
      "outputs": []
    },
    {
      "cell_type": "markdown",
      "source": [
        "## **Estruturas de Controle: Break, Continue e pass**\n",
        "\n",
        "- `break`: Interrompe a execução do loop se alguma condição for validada.\n",
        "- `continue`: Pula o restante do código dentro do for e passa para a próxima iteração quando alguma condição é validada.\n",
        "- `pass`: Este é um comando nulo, e é usando quando não se quer fazer nada, mas é necessário ter algum código.\n"
      ],
      "metadata": {
        "id": "nCAatUD69DcG"
      }
    },
    {
      "cell_type": "code",
      "source": [
        "for i in range(10):\n",
        "    if i == 5:\n",
        "        break # interrompe o for\n",
        "    print(i)"
      ],
      "metadata": {
        "id": "6gZc8TClHnSi"
      },
      "execution_count": null,
      "outputs": []
    },
    {
      "cell_type": "code",
      "source": [
        "for i in range(10):\n",
        "    if i % 2 == 0:\n",
        "      continue  # pula para o próximo número i\n",
        "    print(i)\n"
      ],
      "metadata": {
        "id": "vDFEu9V7HtPA"
      },
      "execution_count": null,
      "outputs": []
    },
    {
      "cell_type": "code",
      "source": [
        "for i in range(10):\n",
        "    if i % 2 == 0:\n",
        "        pass # não faz nada\n",
        "    else:\n",
        "        print(i)"
      ],
      "metadata": {
        "id": "CNpO-cP-H2zg"
      },
      "execution_count": null,
      "outputs": []
    },
    {
      "cell_type": "markdown",
      "source": [
        "## **Comprehensions: List e Dict**\n",
        "> Comprehensions são formas mais curtas e \"elegantes\" de se escrever um for para construção de objetos como listas e dicionários. A sintaxe é mais curta que os loops tradicionais e pode tornar o seu código menor.\n",
        "\n",
        "⚠️ **Atenção:** Se a sua comprehensions ficar muito extensa e difícil de entender, lembre-se do Guia de Estilo PEP 8 e Zen do Python. Usar loops trandicionais pode ser uma escolha mais adequada."
      ],
      "metadata": {
        "id": "8rYy4r9_9HZJ"
      }
    },
    {
      "cell_type": "code",
      "source": [
        "# usando a forma normal\n",
        "lista = []\n",
        "for x in range(1, 11):\n",
        "    lista.append(x**2)\n",
        "print(lista)"
      ],
      "metadata": {
        "id": "PAmb_aajauNc"
      },
      "execution_count": null,
      "outputs": []
    },
    {
      "cell_type": "code",
      "source": [
        "# usando list comprehension\n",
        "quadrados = [x**2 for x in range(1, 11)]\n",
        "print(quadrados)"
      ],
      "metadata": {
        "id": "i-_qlA1sJErQ"
      },
      "execution_count": null,
      "outputs": []
    },
    {
      "cell_type": "code",
      "source": [
        "# lista de números pares de 1 até 10\n",
        "pares = [x for x in range(1, 11) if x % 2 != 0]\n",
        "print(pares)"
      ],
      "metadata": {
        "id": "aO57VPwKJq5B"
      },
      "execution_count": null,
      "outputs": []
    },
    {
      "cell_type": "code",
      "source": [
        "# Dict Comprehension\n",
        "dicio_quadrados = {x: x**2 for x in range(1, 11)}\n",
        "print(dicio_quadrados)"
      ],
      "metadata": {
        "id": "fF6_ebR9Js-M"
      },
      "execution_count": null,
      "outputs": []
    },
    {
      "cell_type": "code",
      "source": [
        "for x, y in enumerate([10,20,30,40,50]):\n",
        "    print(x, y)"
      ],
      "metadata": {
        "id": "Icaf4qurcoGf"
      },
      "execution_count": null,
      "outputs": []
    },
    {
      "cell_type": "code",
      "source": [
        "for x, y in zip(['a','b','c','d'], [10,20,30,40]):\n",
        "    print(x, y)"
      ],
      "metadata": {
        "id": "_DP-9F60c26i"
      },
      "execution_count": null,
      "outputs": []
    }
  ]
}